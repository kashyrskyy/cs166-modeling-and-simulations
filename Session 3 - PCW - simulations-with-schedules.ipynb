{
 "cells": [
  {
   "cell_type": "markdown",
   "metadata": {},
   "source": [
    "# The Event and Schedule classes\n",
    "\n",
    "You should copy this code into your own Python notebook and use it to complete your pre-class work."
   ]
  },
  {
   "cell_type": "code",
   "execution_count": 121,
   "metadata": {},
   "outputs": [],
   "source": [
    "import numpy as np\n",
    "import scipy.stats as sts\n",
    "import matplotlib.pyplot as plt\n",
    "import heapq"
   ]
  },
  {
   "cell_type": "code",
   "execution_count": 122,
   "metadata": {},
   "outputs": [],
   "source": [
    "import heapq\n",
    "\n",
    "class Event:\n",
    "    '''\n",
    "    Store the properties of one event in the Schedule class defined below. Each\n",
    "    event has a time at which it needs to run, a function to call when running\n",
    "    the event, along with the arguments and keyword arguments to pass to that\n",
    "    function.\n",
    "    '''\n",
    "    def __init__(self, timestamp, function, *args, **kwargs):\n",
    "        self.timestamp = timestamp\n",
    "        self.function = function\n",
    "        self.args = args\n",
    "        self.kwargs = kwargs\n",
    "\n",
    "    def __lt__(self, other):\n",
    "        '''\n",
    "        This overloads the less-than operator in Python. We need it so the\n",
    "        priority queue knows how to compare two events. We want events with\n",
    "        earlier (smaller) times to go first.\n",
    "        '''\n",
    "        return self.timestamp < other.timestamp\n",
    "\n",
    "    def run(self, schedule):\n",
    "        '''\n",
    "        Run an event by calling the function with its arguments and keyword\n",
    "        arguments. The first argument to any event function is always the\n",
    "        schedule in which events are being tracked. The schedule object can be\n",
    "        used to add new events to the priority queue.\n",
    "        '''\n",
    "        self.function(schedule, *self.args, **self.kwargs)\n",
    "\n",
    "\n",
    "class Schedule:\n",
    "    '''\n",
    "    Implement an event schedule using a priority queue. You can add events and\n",
    "    run the next event.\n",
    "    \n",
    "    The `now` attribute contains the time at which the last event was run.\n",
    "    '''\n",
    "    \n",
    "    def __init__(self, busSystem):\n",
    "        self.now = 0  # Keep track of the current simulation time\n",
    "        self.priority_queue = []  # The priority queue of events to run\n",
    "        self.busSystem = busSystem\n",
    "        \n",
    "    def add_event_at(self, timestamp, function, *args, **kwargs):\n",
    "        # Add an event to the schedule at a particular point in time.\n",
    "        heapq.heappush(\n",
    "            self.priority_queue,\n",
    "            Event(timestamp, function, *args, **kwargs))\n",
    "    \n",
    "    def add_event_after(self, interval, function, *args, **kwargs):\n",
    "        # Add an event to the schedule after a specified time interval.\n",
    "        self.add_event_at(self.now + interval, function, *args, **kwargs)\n",
    "    \n",
    "    def next_event_time(self):\n",
    "        # Return the time of the next event. The `now` attribute of this class\n",
    "        # contain the time of the last event that was run.\n",
    "        return self.priority_queue[0].timestamp\n",
    "\n",
    "    def run_next_event(self):\n",
    "        # Get the next event from the priority queue and run it.\n",
    "        event = heapq.heappop(self.priority_queue)\n",
    "        self.now = event.timestamp\n",
    "        event.run(self)\n",
    "        \n",
    "    def __repr__(self):\n",
    "        return (\n",
    "            f'Schedule() at time {self.now} ' +\n",
    "            f'with {len(self.priority_queue)} events in the queue')\n",
    "    \n",
    "    def print_events(self):\n",
    "        # Print out diagnostic information about the events in the schedule.\n",
    "        print(repr(self))\n",
    "        for event in sorted(self.priority_queue):\n",
    "            print(f'   {event.timestamp}: {event.function.__name__}')"
   ]
  },
  {
   "cell_type": "code",
   "execution_count": 123,
   "metadata": {},
   "outputs": [],
   "source": [
    "class Queue:\n",
    "    '''\n",
    "    This class tracks the number of people in the queue \n",
    "    and the number of people being served. It also schedules\n",
    "    when a customer starts being served and stops being served.\n",
    "    '''\n",
    "    # making a Queue with default 0 people waiting in a queue and 0 served\n",
    "    def __init__(self, count_queue, count_served):\n",
    "        self.count_queue = 0\n",
    "        self.count_served = 0\n",
    "    "
   ]
  },
  {
   "cell_type": "code",
   "execution_count": 124,
   "metadata": {},
   "outputs": [],
   "source": [
    "class BusSystem:\n",
    "    '''\n",
    "     This class contains the queues (in this case only one \n",
    "     but you’ll need to make more than one for your project). \n",
    "     It also schedules the arrival of customers at the queue(s).\n",
    "    '''\n",
    "    \n",
    "    def __init__(self, queue, service_time, arrival_distribution):\n",
    "        \n",
    "        self.queue = queue\n",
    "        self.service_time = service_time\n",
    "        self.arrival_distribution = arrival_distribution\n",
    "        \n",
    "        #for plotting the dats from a dictionary\n",
    "        self.customers_per_time ={\"time\":[], \"count_queue\":[]}\n",
    "        \n",
    "    def schedule_arrival(self, schedule):\n",
    "        # calculating the next arrival time\n",
    "        next_arrival = schedule.now + self.arrival_distribution.rvs()\n",
    "        # making an event of the arrival\n",
    "        customer_arrives = Event(next_arrival, customer_serving)\n",
    "        # add an event\n",
    "        schedule.add_event_at(customer_arrives.timestamp, customer_arrives.function)\n",
    "        # increase the queue\n",
    "        self.queue.count_queue += 1\n",
    "        schedule.now = customer_arrives.timestamp"
   ]
  },
  {
   "cell_type": "code",
   "execution_count": 125,
   "metadata": {},
   "outputs": [],
   "source": [
    "# a function is neeeded for the Event() to accommodate \n",
    "# for the customers being served at the time of other customers arriving\n",
    "\n",
    "def customer_serving(schedule):\n",
    "    \n",
    "    serve_rate = schedule.busSystem.service_time\n",
    "    #for scheduling new arrival of passengers while others are being served\n",
    "    schedule.now_ = schedule.now\n",
    "    while schedule.now < schedule.now_ + serve_rate:\n",
    "        schedule.busSystem.schedule_arrival(schedule)\n",
    "    #update the queue count\n",
    "    \n",
    "    #adding data to the dictionary\n",
    "    schedule.busSystem.queue.count_queue -= 1\n",
    "    schedule.busSystem.customers_per_time[\"time\"].append(schedule.now)\n",
    "    schedule.busSystem.customers_per_time[\"count_queue\"].append(schedule.busSystem.queue.count_queue)"
   ]
  },
  {
   "cell_type": "markdown",
   "metadata": {},
   "source": [
    "## M/D/1 queue simulation"
   ]
  },
  {
   "cell_type": "code",
   "execution_count": 126,
   "metadata": {
    "scrolled": true
   },
   "outputs": [
    {
     "ename": "AttributeError",
     "evalue": "'int' object has no attribute 'rvs'",
     "output_type": "error",
     "traceback": [
      "\u001b[0;31m---------------------------------------------------------------------------\u001b[0m",
      "\u001b[0;31mAttributeError\u001b[0m                            Traceback (most recent call last)",
      "\u001b[0;32m<ipython-input-126-b4b735475091>\u001b[0m in \u001b[0;36m<module>\u001b[0;34m\u001b[0m\n\u001b[1;32m     23\u001b[0m     \u001b[0mplt\u001b[0m\u001b[0;34m.\u001b[0m\u001b[0mlegend\u001b[0m\u001b[0;34m(\u001b[0m\u001b[0;34m)\u001b[0m\u001b[0;34m\u001b[0m\u001b[0;34m\u001b[0m\u001b[0m\n\u001b[1;32m     24\u001b[0m \u001b[0;34m\u001b[0m\u001b[0m\n\u001b[0;32m---> 25\u001b[0;31m \u001b[0mrun_simulation\u001b[0m\u001b[0;34m(\u001b[0m\u001b[0marrival_rate\u001b[0m\u001b[0;34m,\u001b[0m \u001b[0mservice_rate\u001b[0m\u001b[0;34m,\u001b[0m \u001b[0mrun_until\u001b[0m\u001b[0;34m)\u001b[0m\u001b[0;34m\u001b[0m\u001b[0;34m\u001b[0m\u001b[0m\n\u001b[0m",
      "\u001b[0;32m<ipython-input-126-b4b735475091>\u001b[0m in \u001b[0;36mrun_simulation\u001b[0;34m(arrival_rate, service_rate, run_until)\u001b[0m\n\u001b[1;32m     13\u001b[0m     \u001b[0;31m# setting up a schedule, bus system object\u001b[0m\u001b[0;34m\u001b[0m\u001b[0;34m\u001b[0m\u001b[0;34m\u001b[0m\u001b[0m\n\u001b[1;32m     14\u001b[0m     \u001b[0mschedule\u001b[0m \u001b[0;34m=\u001b[0m \u001b[0mSchedule\u001b[0m\u001b[0;34m(\u001b[0m\u001b[0mbusSystem\u001b[0m\u001b[0;34m)\u001b[0m\u001b[0;34m\u001b[0m\u001b[0;34m\u001b[0m\u001b[0m\n\u001b[0;32m---> 15\u001b[0;31m     \u001b[0mbusSystem\u001b[0m\u001b[0;34m.\u001b[0m\u001b[0mschedule_arrival\u001b[0m\u001b[0;34m(\u001b[0m\u001b[0mschedule\u001b[0m\u001b[0;34m)\u001b[0m\u001b[0;34m\u001b[0m\u001b[0;34m\u001b[0m\u001b[0m\n\u001b[0m\u001b[1;32m     16\u001b[0m \u001b[0;34m\u001b[0m\u001b[0m\n\u001b[1;32m     17\u001b[0m     \u001b[0;31m#running the simulation until set time, running next event\u001b[0m\u001b[0;34m\u001b[0m\u001b[0;34m\u001b[0m\u001b[0;34m\u001b[0m\u001b[0m\n",
      "\u001b[0;32m<ipython-input-124-4ec5734589ec>\u001b[0m in \u001b[0;36mschedule_arrival\u001b[0;34m(self, schedule)\u001b[0m\n\u001b[1;32m     17\u001b[0m     \u001b[0;32mdef\u001b[0m \u001b[0mschedule_arrival\u001b[0m\u001b[0;34m(\u001b[0m\u001b[0mself\u001b[0m\u001b[0;34m,\u001b[0m \u001b[0mschedule\u001b[0m\u001b[0;34m)\u001b[0m\u001b[0;34m:\u001b[0m\u001b[0;34m\u001b[0m\u001b[0;34m\u001b[0m\u001b[0m\n\u001b[1;32m     18\u001b[0m         \u001b[0;31m# calculating the next arrival time\u001b[0m\u001b[0;34m\u001b[0m\u001b[0;34m\u001b[0m\u001b[0;34m\u001b[0m\u001b[0m\n\u001b[0;32m---> 19\u001b[0;31m         \u001b[0mnext_arrival\u001b[0m \u001b[0;34m=\u001b[0m \u001b[0mschedule\u001b[0m\u001b[0;34m.\u001b[0m\u001b[0mnow\u001b[0m \u001b[0;34m+\u001b[0m \u001b[0mself\u001b[0m\u001b[0;34m.\u001b[0m\u001b[0marrival_distribution\u001b[0m\u001b[0;34m.\u001b[0m\u001b[0mrvs\u001b[0m\u001b[0;34m(\u001b[0m\u001b[0;34m)\u001b[0m\u001b[0;34m\u001b[0m\u001b[0;34m\u001b[0m\u001b[0m\n\u001b[0m\u001b[1;32m     20\u001b[0m         \u001b[0;31m# making an event of the arrival\u001b[0m\u001b[0;34m\u001b[0m\u001b[0;34m\u001b[0m\u001b[0;34m\u001b[0m\u001b[0m\n\u001b[1;32m     21\u001b[0m         \u001b[0mcustomer_arrives\u001b[0m \u001b[0;34m=\u001b[0m \u001b[0mEvent\u001b[0m\u001b[0;34m(\u001b[0m\u001b[0mnext_arrival\u001b[0m\u001b[0;34m,\u001b[0m \u001b[0mcustomer_serving\u001b[0m\u001b[0;34m)\u001b[0m\u001b[0;34m\u001b[0m\u001b[0;34m\u001b[0m\u001b[0m\n",
      "\u001b[0;31mAttributeError\u001b[0m: 'int' object has no attribute 'rvs'"
     ]
    }
   ],
   "source": [
    "# setting parameters\n",
    "arrival_rate = 1\n",
    "service_rate = 5\n",
    "run_until = 20\n",
    "\n",
    "def run_simulation(arrival_rate, service_rate, run_until):\n",
    "    # sample waiting times - exponential\n",
    "    arrival_dist = sts.expon(scale=1/arrival_rate)\n",
    "    # making a queue\n",
    "    queue = Queue(0,0)\n",
    "    # making a bus system object\n",
    "    busSystem = BusSystem(queue, arrival_dist, service_rate)\n",
    "    # setting up a schedule, bus system object\n",
    "    schedule = Schedule(busSystem)\n",
    "    busSystem.schedule_arrival(schedule)\n",
    "    \n",
    "    #running the simulation until set time, running next event\n",
    "    while schedule.next_arrival() <= run_until:\n",
    "        schedule.run_next_event()\n",
    "    \n",
    "    #plotting the data\n",
    "    plt.plot(busSystem.customers_per_time[\"time\"], busSystem.customers_per_time[\"count_queue\"] )\n",
    "    plt.legend()\n",
    "        \n",
    "run_simulation(arrival_rate, service_rate, run_until)"
   ]
  },
  {
   "cell_type": "markdown",
   "metadata": {},
   "source": [
    "## Reflection"
   ]
  },
  {
   "cell_type": "markdown",
   "metadata": {},
   "source": [
    "As seen from above, my code still has a bug I was not able to problem solve, however I tried to implement the best practices of coding by naming variables and objects appropriately, adding the necessary elements to implement the simulation. I have created 2 class objects and 2 functions to (one of them the simulation function itself). As per suggestion of Nazar Yaremko (M22) I implemented the customer_serving function to accommodate for customers being served at the time while other customers are arriving."
   ]
  },
  {
   "cell_type": "markdown",
   "metadata": {},
   "source": [
    "## A simple test of the schedule\n",
    "\n",
    "You do not need this code for your pre-class work. It demonstrates that the schedule can add and run events."
   ]
  },
  {
   "cell_type": "code",
   "execution_count": 120,
   "metadata": {},
   "outputs": [
    {
     "ename": "TypeError",
     "evalue": "__init__() missing 1 required positional argument: 'busSystem'",
     "output_type": "error",
     "traceback": [
      "\u001b[0;31m---------------------------------------------------------------------------\u001b[0m",
      "\u001b[0;31mTypeError\u001b[0m                                 Traceback (most recent call last)",
      "\u001b[0;32m<ipython-input-120-fb17913727c3>\u001b[0m in \u001b[0;36m<module>\u001b[0;34m\u001b[0m\n\u001b[1;32m      3\u001b[0m     \u001b[0mschedule\u001b[0m\u001b[0;34m.\u001b[0m\u001b[0madd_event_after\u001b[0m\u001b[0;34m(\u001b[0m\u001b[0;36m0.25\u001b[0m\u001b[0;34m,\u001b[0m \u001b[0mprint_and_add\u001b[0m\u001b[0;34m,\u001b[0m \u001b[0;34m'Another event'\u001b[0m\u001b[0;34m)\u001b[0m\u001b[0;34m\u001b[0m\u001b[0;34m\u001b[0m\u001b[0m\n\u001b[1;32m      4\u001b[0m \u001b[0;34m\u001b[0m\u001b[0m\n\u001b[0;32m----> 5\u001b[0;31m \u001b[0mschedule\u001b[0m \u001b[0;34m=\u001b[0m \u001b[0mSchedule\u001b[0m\u001b[0;34m(\u001b[0m\u001b[0;34m)\u001b[0m\u001b[0;34m\u001b[0m\u001b[0;34m\u001b[0m\u001b[0m\n\u001b[0m\u001b[1;32m      6\u001b[0m \u001b[0mschedule\u001b[0m\u001b[0;34m.\u001b[0m\u001b[0mprint_events\u001b[0m\u001b[0;34m(\u001b[0m\u001b[0;34m)\u001b[0m\u001b[0;34m\u001b[0m\u001b[0;34m\u001b[0m\u001b[0m\n\u001b[1;32m      7\u001b[0m \u001b[0;34m\u001b[0m\u001b[0m\n",
      "\u001b[0;31mTypeError\u001b[0m: __init__() missing 1 required positional argument: 'busSystem'"
     ]
    }
   ],
   "source": [
    "def print_and_add(schedule, string):\n",
    "    print(f'At time {schedule.now}:', string)\n",
    "    schedule.add_event_after(0.25, print_and_add, 'Another event')\n",
    "            \n",
    "schedule = Schedule()\n",
    "schedule.print_events()\n",
    "\n",
    "schedule.add_event_at(0.5, print_and_add, 'First event')\n",
    "schedule.add_event_at(1.2, print_and_add, 'Second event')\n",
    "schedule.print_events()\n",
    "\n",
    "schedule.run_next_event()\n",
    "schedule.print_events()\n",
    "\n",
    "schedule.run_next_event()\n",
    "schedule.print_events()\n",
    "\n",
    "schedule.run_next_event()\n",
    "schedule.print_events()"
   ]
  },
  {
   "cell_type": "markdown",
   "metadata": {},
   "source": [
    "# The cuckoo clock simulation\n",
    "\n",
    "You do not need this code for your pre-class work but you can use it as a starting point for implementing your queue simulation."
   ]
  },
  {
   "cell_type": "code",
   "execution_count": 75,
   "metadata": {},
   "outputs": [],
   "source": [
    "class Cuckoo:\n",
    "    def __init__(self, interval):\n",
    "        self.interval = interval\n",
    "        self.hour = 0\n",
    "    \n",
    "    def make_some_noise(self, schedule):\n",
    "        self.hour += 1\n",
    "        print('Cuckoo! ' * self.hour)\n",
    "        if self.hour == 12:\n",
    "            self.hour = 0\n",
    "\n",
    "class Pendulum:\n",
    "    def __init__(self, cuckoo):\n",
    "        self.cuckoo = cuckoo\n",
    "    \n",
    "    def tick(self, schedule, counter):\n",
    "        counter += 1\n",
    "        print(f'tick {counter} at time = {schedule.now}')\n",
    "        schedule.add_event_after(0.5, self.tock, counter)\n",
    "        \n",
    "    def tock(self, schedule, counter):\n",
    "        print(f'tock {counter} at time = {schedule.now}')\n",
    "        schedule.add_event_after(0.5, self.tick, counter)\n",
    "        if counter % self.cuckoo.interval == 0:\n",
    "            schedule.add_event_after(0, self.cuckoo.make_some_noise)\n",
    "\n",
    "class Clock:\n",
    "    def __init__(self):\n",
    "        self.cuckoo = Cuckoo(interval=5)\n",
    "        self.pendulum = Pendulum(self.cuckoo)\n",
    "    \n",
    "    def run(self, schedule):\n",
    "        schedule.add_event_at(0.5, self.pendulum.tick, counter=0)\n",
    "\n",
    "def run_simulation(run_until):\n",
    "    schedule = Schedule()\n",
    "    clock = Clock()\n",
    "    clock.run(schedule)\n",
    "    while schedule.next_event_time() <= run_until:\n",
    "        schedule.run_next_event()"
   ]
  },
  {
   "cell_type": "code",
   "execution_count": 4,
   "metadata": {},
   "outputs": [
    {
     "name": "stdout",
     "output_type": "stream",
     "text": [
      "tick 1 at time = 0.5\n",
      "tock 1 at time = 1.0\n",
      "tick 2 at time = 1.5\n",
      "tock 2 at time = 2.0\n",
      "tick 3 at time = 2.5\n",
      "tock 3 at time = 3.0\n",
      "tick 4 at time = 3.5\n",
      "tock 4 at time = 4.0\n",
      "tick 5 at time = 4.5\n",
      "tock 5 at time = 5.0\n",
      "Cuckoo! \n",
      "tick 6 at time = 5.5\n",
      "tock 6 at time = 6.0\n",
      "tick 7 at time = 6.5\n",
      "tock 7 at time = 7.0\n",
      "tick 8 at time = 7.5\n",
      "tock 8 at time = 8.0\n",
      "tick 9 at time = 8.5\n",
      "tock 9 at time = 9.0\n",
      "tick 10 at time = 9.5\n",
      "tock 10 at time = 10.0\n",
      "Cuckoo! Cuckoo! \n"
     ]
    }
   ],
   "source": [
    "run_simulation(run_until=10)"
   ]
  }
 ],
 "metadata": {
  "kernelspec": {
   "display_name": "Python 3",
   "language": "python",
   "name": "python3"
  },
  "language_info": {
   "codemirror_mode": {
    "name": "ipython",
    "version": 3
   },
   "file_extension": ".py",
   "mimetype": "text/x-python",
   "name": "python",
   "nbconvert_exporter": "python",
   "pygments_lexer": "ipython3",
   "version": "3.7.4"
  }
 },
 "nbformat": 4,
 "nbformat_minor": 4
}
