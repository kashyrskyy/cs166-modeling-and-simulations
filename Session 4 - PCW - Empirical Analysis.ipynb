{
 "cells": [
  {
   "cell_type": "code",
   "execution_count": 140,
   "metadata": {},
   "outputs": [],
   "source": [
    "import heapq\n",
    "\n",
    "class Event:\n",
    "    '''\n",
    "    Store the properties of one event in the Schedule class defined below. Each\n",
    "    event has a time at which it needs to run, a function to call when running\n",
    "    the event, along with the arguments and keyword arguments to pass to that\n",
    "    function.\n",
    "    '''\n",
    "    def __init__(self, timestamp, function, *args, **kwargs):\n",
    "        self.timestamp = timestamp\n",
    "        self.function = function\n",
    "        self.args = args\n",
    "        self.kwargs = kwargs\n",
    "\n",
    "    def __lt__(self, other):\n",
    "        '''\n",
    "        This overloads the less-than operator in Python. We need it so the\n",
    "        priority queue knows how to compare two events. We want events with\n",
    "        earlier (smaller) times to go first.\n",
    "        '''\n",
    "        return self.timestamp < other.timestamp\n",
    "\n",
    "    def run(self, schedule):\n",
    "        '''\n",
    "        Run an event by calling the function with its arguments and keyword\n",
    "        arguments. The first argument to any event function is always the\n",
    "        schedule in which events are being tracked. The schedule object can be\n",
    "        used to add new events to the priority queue.\n",
    "        '''\n",
    "        self.function(schedule, *self.args, **self.kwargs)\n",
    "\n",
    "\n",
    "class Schedule:\n",
    "    '''\n",
    "    Implement an event schedule using a priority queue. You can add events and\n",
    "    run the next event.\n",
    "    \n",
    "    The `now` attribute contains the time at which the last event was run.\n",
    "    '''\n",
    "    \n",
    "    def __init__(self):\n",
    "        self.now = 0  # Keep track of the current simulation time\n",
    "        self.priority_queue = []  # The priority queue of events to run\n",
    "    \n",
    "    def add_event_at(self, timestamp, function, *args, **kwargs):\n",
    "        # Add an event to the schedule at a particular point in time.\n",
    "        heapq.heappush(\n",
    "            self.priority_queue,\n",
    "            Event(timestamp, function, *args, **kwargs))\n",
    "    \n",
    "    def add_event_after(self, interval, function, *args, **kwargs):\n",
    "        # Add an event to the schedule after a specified time interval.\n",
    "        self.add_event_at(self.now + interval, function, *args, **kwargs)\n",
    "    \n",
    "    def next_event_time(self):\n",
    "        return self.priority_queue[0].timestamp\n",
    "\n",
    "    def run_next_event(self):\n",
    "        # Get the next event from the priority queue and run it.\n",
    "        event = heapq.heappop(self.priority_queue)\n",
    "        self.now = event.timestamp\n",
    "        event.run(self)\n",
    "        \n",
    "    def __repr__(self):\n",
    "        return (\n",
    "            f'Schedule() at time {self.now} ' +\n",
    "            f'with {len(self.priority_queue)} events in the queue')\n",
    "    \n",
    "    def print_events(self):\n",
    "        print(repr(self))\n",
    "        for event in sorted(self.priority_queue):\n",
    "            print(f'   {event.timestamp}: {event.function.__name__}')\n"
   ]
  },
  {
   "cell_type": "code",
   "execution_count": 141,
   "metadata": {},
   "outputs": [],
   "source": [
    "# M/D/1 queue\n",
    "\n",
    "import scipy.stats as sts\n",
    "\n",
    "\n",
    "class Queue:\n",
    "    def __init__(self, service_rate):\n",
    "        # Store the deterministic service time for an M/D/1 queue\n",
    "        self.service_time = 1 / service_rate\n",
    "        # We start with an empty queue and the server not busy\n",
    "        self.people_in_queue = 0\n",
    "        self.people_being_served = 0\n",
    "\n",
    "    def add_customer(self, schedule):\n",
    "        # Add the customer to the queue\n",
    "        self.people_in_queue += 1\n",
    "        if self.people_being_served < 1:\n",
    "            # This customer can be served immediately\n",
    "            schedule.add_event_after(0, self.start_serving_customer)\n",
    "            \n",
    "    def start_serving_customer(self, schedule):\n",
    "        # Move the customer from the queue to a server\n",
    "        self.people_in_queue -= 1\n",
    "        self.people_being_served += 1\n",
    "        # Schedule when the server will be done with the customer\n",
    "        schedule.add_event_after(\n",
    "            self.service_time,\n",
    "            self.finish_serving_customer)\n",
    "            \n",
    "    def finish_serving_customer(self, schedule):\n",
    "        # Remove the customer from the server\n",
    "        self.people_being_served -= 1\n",
    "        if self.people_in_queue > 0:\n",
    "            # There are more people in the queue so serve the next customer\n",
    "            schedule.add_event_after(0, self.start_serving_customer)\n",
    "\n",
    "\n",
    "class BusSystem:\n",
    "    \n",
    "    def __init__(self, arrival_rate, service_rate):\n",
    "        self.queue = Queue(service_rate)\n",
    "        self.arrival_distribution = sts.expon(scale=1/arrival_rate)\n",
    "\n",
    "    def add_customer(self, schedule):\n",
    "        # Add this customer to the queue\n",
    "        self.queue.add_customer(schedule)\n",
    "        # Schedule when to add another customer\n",
    "        schedule.add_event_after(\n",
    "            self.arrival_distribution.rvs(),\n",
    "            self.add_customer)\n",
    "\n",
    "    def run(self, schedule):\n",
    "        # Schedule when the first customer arrives\n",
    "        schedule.add_event_after(\n",
    "            self.arrival_distribution.rvs(),\n",
    "            self.add_customer)\n",
    "        \n",
    "\n",
    "def run_simulation(arrival_rate, service_rate, run_until):\n",
    "    schedule = Schedule()\n",
    "    bus_system = BusSystem(arrival_rate, service_rate)\n",
    "    bus_system.run(schedule)\n",
    "    while schedule.next_event_time() < run_until:\n",
    "        schedule.run_next_event()\n",
    "    return bus_system"
   ]
  },
  {
   "cell_type": "code",
   "execution_count": 142,
   "metadata": {
    "scrolled": true
   },
   "outputs": [
    {
     "name": "stdout",
     "output_type": "stream",
     "text": [
      "There are 0 people in the queue\n"
     ]
    }
   ],
   "source": [
    "# Run a short test\n",
    "bus_system = run_simulation(arrival_rate=0.8, service_rate=1, run_until=100)\n",
    "print(f'There are {bus_system.queue.people_in_queue} people in the queue')"
   ]
  },
  {
   "cell_type": "markdown",
   "metadata": {},
   "source": [
    "## First experiment: 100 trials"
   ]
  },
  {
   "cell_type": "code",
   "execution_count": 143,
   "metadata": {},
   "outputs": [],
   "source": [
    "queue_overtime = []\n",
    "\n",
    "for i in range(101):\n",
    "    bus_system = run_simulation(arrival_rate=0.8, service_rate=1, run_until=100)\n",
    "    queue_overtime.append(bus_system.queue.people_in_queue)"
   ]
  },
  {
   "cell_type": "code",
   "execution_count": 144,
   "metadata": {
    "scrolled": true
   },
   "outputs": [
    {
     "data": {
      "image/png": "[encoded data removed]",
      "text/plain": [
       "<Figure size 432x288 with 1 Axes>"
      ]
     },
     "metadata": {
      "needs_background": "light"
     },
     "output_type": "display_data"
    }
   ],
   "source": [
    "import matplotlib.pyplot as plt\n",
    "#print(queue_overtime)\n",
    "plt.hist(queue_overtime)\n",
    "plt.xlabel(\"Number of people in the queue\")\n",
    "plt.ylabel(\"Frequency per queue size\")\n",
    "plt.show()"
   ]
  },
  {
   "cell_type": "markdown",
   "metadata": {},
   "source": [
    "#### Compute an empirical estimate of the mean queue length (M/D/1) with arrival rate 0.8 and service rate 1, including a 95% confidence interval of the mean."
   ]
  },
  {
   "cell_type": "code",
   "execution_count": 145,
   "metadata": {},
   "outputs": [
    {
     "name": "stdout",
     "output_type": "stream",
     "text": [
      "The mean queue length is: 1.5643564356435644\n",
      "Standard error of the mean: 0.219547618409625\n",
      "95% confidence interval of population mean: [1.9947, 1.13]\n"
     ]
    }
   ],
   "source": [
    "import scipy.stats as sts\n",
    "\n",
    "mean_queue_100 = sum(queue_overtime)/len(queue_overtime)\n",
    "\n",
    "print(\"The mean queue length is:\", mean_queue_100)\n",
    "\n",
    "# computing the standard error of the mean\n",
    "t = sts.sem(queue_overtime)\n",
    "print(\"Standard error of the mean:\", t)\n",
    "\n",
    "## formula for the confidence interval is [m + 1.96*t, m - 1.96*t]\n",
    "## 1.96 is the z-score for a 95% confidence interval \n",
    "print(\"95% confidence interval of population mean:\", [round(mean_queue_100 + 1.96*t, 4), round(mean_queue_100 - 1.96*t, 2)])"
   ]
  },
  {
   "cell_type": "markdown",
   "metadata": {},
   "source": [
    "#### Computing a theoretical queue length value for M/D/1:"
   ]
  },
  {
   "cell_type": "code",
   "execution_count": 146,
   "metadata": {},
   "outputs": [
    {
     "name": "stdout",
     "output_type": "stream",
     "text": [
      "1.6\n"
     ]
    }
   ],
   "source": [
    "utilization_rate = 0.8/1\n",
    "queue_length = (utilization_rate**2)/(2*(1-utilization_rate))\n",
    "print(round(queue_length, 4))"
   ]
  },
  {
   "cell_type": "markdown",
   "metadata": {},
   "source": [
    "## Second experiment: 1000 trials"
   ]
  },
  {
   "cell_type": "code",
   "execution_count": 147,
   "metadata": {},
   "outputs": [
    {
     "data": {
      "image/png": "[encoded data removed]",
      "text/plain": [
       "<Figure size 432x288 with 1 Axes>"
      ]
     },
     "metadata": {
      "needs_background": "light"
     },
     "output_type": "display_data"
    }
   ],
   "source": [
    "queue_overtime_1000 = []\n",
    "\n",
    "for i in range(1001):\n",
    "    bus_system = run_simulation(arrival_rate=0.8, service_rate=1, run_until=100)\n",
    "    queue_overtime_1000.append(bus_system.queue.people_in_queue)\n",
    "    \n",
    "#print(queue_overtime)\n",
    "\n",
    "plt.hist(queue_overtime_1000)\n",
    "plt.xlabel(\"Number of people in the queue\")\n",
    "plt.ylabel(\"Frequency per queue size\")\n",
    "plt.show()"
   ]
  },
  {
   "cell_type": "code",
   "execution_count": 148,
   "metadata": {},
   "outputs": [
    {
     "name": "stdout",
     "output_type": "stream",
     "text": [
      "The mean queue length is: 1.6413586413586414\n",
      "Standard error of the mean: 0.0664216524661305\n",
      "95% confidence interval of population mean: [1.7715, 1.51]\n"
     ]
    }
   ],
   "source": [
    "mean_queue_1000 = sum(queue_overtime_1000)/len(queue_overtime_1000)\n",
    "\n",
    "print(\"The mean queue length is:\", mean_queue_1000)\n",
    "\n",
    "# computing the standard error of the mean\n",
    "t = sts.sem(queue_overtime_1000)\n",
    "print(\"Standard error of the mean:\", t)\n",
    "\n",
    "## formula for the confidence interval\n",
    "## [m + 1.96*t, m - 1.96*t]\n",
    "## 1.96 is the z-score for a 95% confidence interval \n",
    "print(\"95% confidence interval of population mean:\", [round(mean_queue_1000 + 1.96*t, 4), round(mean_queue_1000 - 1.96*t, 2)])"
   ]
  },
  {
   "cell_type": "markdown",
   "metadata": {},
   "source": [
    "## Experiment comparison"
   ]
  },
  {
   "cell_type": "markdown",
   "metadata": {},
   "source": [
    "**(1) Whether and how the distribution (histogram) over queue length changed.**\n",
    "\n",
    "The distribution over queue length still follows the same pattern, though it got more right skewed, with queue length values from 4 and up getting less frequent."
   ]
  },
  {
   "cell_type": "markdown",
   "metadata": {},
   "source": [
    "**(2) Whether and how the average queue length estimate changed.**\n",
    "\n",
    "In the experiment with a 1000 collections of the mean the confidence interval got narrower to [1.8115, 1.53] from [1.8318, 1.1]. Standard error of the sample mean decreased from 0.187 to 0.071 as we increased the sample size. The mean (average queue length) was computed the same way, though this time we value of the sample size increased from 100 to 1000, meaning we have collected more means. With a sample size getting bigger we mighht expect the curve getting narrower as the 95% of the same population we sample from 100 and 100 times, having more certainty with a narrower confidence interval."
   ]
  },
  {
   "cell_type": "markdown",
   "metadata": {},
   "source": [
    "**(3) Whether and how the confidence interval of the average queue length changed.**"
   ]
  },
  {
   "cell_type": "markdown",
   "metadata": {},
   "source": [
    "The confidence interval changed, it got narrower to [1.8115, 1.53] from [1.8318, 1.1]. This happened as a result of the standard error of the mean decreasing from 0.187 to 0.071."
   ]
  },
  {
   "cell_type": "markdown",
   "metadata": {},
   "source": [
    "## Experiment with a modified arrival rate"
   ]
  },
  {
   "cell_type": "code",
   "execution_count": 149,
   "metadata": {},
   "outputs": [],
   "source": [
    "# making 3 lists - for arrival rates, means, and errors \n",
    "\n",
    "arrival_rate_list = [0.1, 0.2, 0.3, 0.4, 0.5, 0.6, 0.7, 0.8, 0.9]\n",
    "mean_list = []\n",
    "error_list = []"
   ]
  },
  {
   "cell_type": "code",
   "execution_count": 150,
   "metadata": {},
   "outputs": [],
   "source": [
    "## arrival_rate = 0.1\n",
    "queue_overtime_1000 = []\n",
    "for i in range(1001):\n",
    "    bus_system = run_simulation(arrival_rate=0.1, service_rate=1, run_until=100)\n",
    "    queue_overtime_1000.append(bus_system.queue.people_in_queue)\n",
    "mean_queue_1000 = sum(queue_overtime_1000)/len(queue_overtime_1000)\n",
    "t = sts.sem(queue_overtime_1000)\n",
    "\n",
    "mean_list.append(mean_queue_1000)\n",
    "error_list.append(2*1.96*t)"
   ]
  },
  {
   "cell_type": "code",
   "execution_count": 151,
   "metadata": {},
   "outputs": [],
   "source": [
    "## arrival_rate = 0.2\n",
    "queue_overtime_1000 = []\n",
    "for i in range(1001):\n",
    "    bus_system = run_simulation(arrival_rate=0.2, service_rate=1, run_until=100)\n",
    "    queue_overtime_1000.append(bus_system.queue.people_in_queue)\n",
    "mean_queue_1000 = sum(queue_overtime_1000)/len(queue_overtime_1000)\n",
    "t = sts.sem(queue_overtime_1000)\n",
    "\n",
    "mean_list.append(mean_queue_1000)\n",
    "error_list.append(2*1.96*t)"
   ]
  },
  {
   "cell_type": "code",
   "execution_count": 152,
   "metadata": {},
   "outputs": [],
   "source": [
    "## arrival_rate = 0.3\n",
    "queue_overtime_1000 = []\n",
    "for i in range(1001):\n",
    "    bus_system = run_simulation(arrival_rate=0.3, service_rate=1, run_until=100)\n",
    "    queue_overtime_1000.append(bus_system.queue.people_in_queue)\n",
    "mean_queue_1000 = sum(queue_overtime_1000)/len(queue_overtime_1000)\n",
    "t = sts.sem(queue_overtime_1000)\n",
    "\n",
    "mean_list.append(mean_queue_1000)\n",
    "error_list.append(2*1.96*t)"
   ]
  },
  {
   "cell_type": "code",
   "execution_count": 153,
   "metadata": {},
   "outputs": [],
   "source": [
    "## arrival_rate = 0.4\n",
    "queue_overtime_1000 = []\n",
    "for i in range(1001):\n",
    "    bus_system = run_simulation(arrival_rate=0.4, service_rate=1, run_until=100)\n",
    "    queue_overtime_1000.append(bus_system.queue.people_in_queue)\n",
    "mean_queue_1000 = sum(queue_overtime_1000)/len(queue_overtime_1000)\n",
    "t = sts.sem(queue_overtime_1000)\n",
    "\n",
    "mean_list.append(mean_queue_1000)\n",
    "error_list.append(2*1.96*t)"
   ]
  },
  {
   "cell_type": "code",
   "execution_count": 154,
   "metadata": {},
   "outputs": [],
   "source": [
    "## arrival_rate = 0.5\n",
    "queue_overtime_1000 = []\n",
    "for i in range(1001):\n",
    "    bus_system = run_simulation(arrival_rate=0.5, service_rate=1, run_until=100)\n",
    "    queue_overtime_1000.append(bus_system.queue.people_in_queue)\n",
    "mean_queue_1000 = sum(queue_overtime_1000)/len(queue_overtime_1000)\n",
    "t = sts.sem(queue_overtime_1000)\n",
    "\n",
    "mean_list.append(mean_queue_1000)\n",
    "error_list.append(2*1.96*t)"
   ]
  },
  {
   "cell_type": "code",
   "execution_count": 155,
   "metadata": {},
   "outputs": [],
   "source": [
    "## arrival_rate = 0.6\n",
    "queue_overtime_1000 = []\n",
    "for i in range(1001):\n",
    "    bus_system = run_simulation(arrival_rate=0.6, service_rate=1, run_until=100)\n",
    "    queue_overtime_1000.append(bus_system.queue.people_in_queue)\n",
    "mean_queue_1000 = sum(queue_overtime_1000)/len(queue_overtime_1000)\n",
    "t = sts.sem(queue_overtime_1000)\n",
    "\n",
    "mean_list.append(mean_queue_1000)\n",
    "error_list.append(2*1.96*t)"
   ]
  },
  {
   "cell_type": "code",
   "execution_count": 156,
   "metadata": {},
   "outputs": [],
   "source": [
    "## arrival_rate = 0.7\n",
    "queue_overtime_1000 = []\n",
    "for i in range(1001):\n",
    "    bus_system = run_simulation(arrival_rate=0.7, service_rate=1, run_until=100)\n",
    "    queue_overtime_1000.append(bus_system.queue.people_in_queue)\n",
    "mean_queue_1000 = sum(queue_overtime_1000)/len(queue_overtime_1000)\n",
    "t = sts.sem(queue_overtime_1000)\n",
    "\n",
    "mean_list.append(mean_queue_1000)\n",
    "error_list.append(2*1.96*t)"
   ]
  },
  {
   "cell_type": "code",
   "execution_count": 157,
   "metadata": {},
   "outputs": [],
   "source": [
    "## arrival_rate = 0.8\n",
    "queue_overtime_1000 = []\n",
    "for i in range(1001):\n",
    "    bus_system = run_simulation(arrival_rate=0.8, service_rate=1, run_until=100)\n",
    "    queue_overtime_1000.append(bus_system.queue.people_in_queue)\n",
    "mean_queue_1000 = sum(queue_overtime_1000)/len(queue_overtime_1000)\n",
    "t = sts.sem(queue_overtime_1000)\n",
    "\n",
    "mean_list.append(mean_queue_1000)\n",
    "error_list.append(2*1.96*t)"
   ]
  },
  {
   "cell_type": "code",
   "execution_count": 158,
   "metadata": {},
   "outputs": [],
   "source": [
    "## arrival_rate = 0.9\n",
    "queue_overtime_1000 = []\n",
    "for i in range(1001):\n",
    "    bus_system = run_simulation(arrival_rate=0.9, service_rate=1, run_until=100)\n",
    "    queue_overtime_1000.append(bus_system.queue.people_in_queue)\n",
    "mean_queue_1000 = sum(queue_overtime_1000)/len(queue_overtime_1000)\n",
    "t = sts.sem(queue_overtime_1000)\n",
    "\n",
    "mean_list.append(mean_queue_1000)\n",
    "error_list.append(2*1.96*t)"
   ]
  },
  {
   "cell_type": "markdown",
   "metadata": {},
   "source": [
    "#### Error plot of the average queue length and it's 95% confidence interval for different values of the arrival rate. "
   ]
  },
  {
   "cell_type": "code",
   "execution_count": 159,
   "metadata": {},
   "outputs": [
    {
     "data": {
      "image/png": "[encoded data removed]",
      "text/plain": [
       "<Figure size 720x1080 with 1 Axes>"
      ]
     },
     "metadata": {
      "needs_background": "light"
     },
     "output_type": "display_data"
    }
   ],
   "source": [
    "plt.figure(figsize=(10,15))\n",
    "\n",
    "# making an error plot\n",
    "plt.errorbar(arrival_rate_list, mean_list, error_list, color=\"black\", marker=\"o\", capsize = 5, linestyle = \"--\", linewidth=1)\n",
    "plt.xlabel('Arrival rate in range (0,1)')\n",
    "plt.ylabel('Sample mean measured')\n",
    "plt.show()"
   ]
  },
  {
   "cell_type": "markdown",
   "metadata": {},
   "source": [
    "#### Determine when the average queue length exceeds 5 people.\n",
    "\n",
    "Based on the graph output I want to test how the average queue length behaves in range of [0.9, 1) values of the arrival rate. I will add the new values to the current list, and will make a plot setting a new limit of [0.9,1). Update: I have tried adding new values to the list and plotting them like above, but I have gotten errors with the function not being able to handle that many arguments. I am not sure how to fix this error, and I will fix it after the class."
   ]
  },
  {
   "cell_type": "markdown",
   "metadata": {},
   "source": [
    "## Reflection\n",
    "\n",
    "I have visualized the results of simulations appropriately, modifying range, size of the figures, for it to be more readable. I have commented the lines of code to explain what I am doing; however, I have yet to improve to optimize the space in the notebook that code takes - I wanted to implement the function that would simply loop through all arrival rates in the list (from 0.1 to 0.9), however I had an error and decided to compute the error and mean values for each arrival separately, in a separate code block; I realize this is not a desired #professionalism level for code writing and I seek to improve. As for empirical analysis, I have used the correct formulas to analyze the simulations I made, and I compared simulations of 100 runs and 1000 runs based on their confidence intervals and standard errors."
   ]
  }
 ],
 "metadata": {
  "kernelspec": {
   "display_name": "Python 3",
   "language": "python",
   "name": "python3"
  },
  "language_info": {
   "codemirror_mode": {
    "name": "ipython",
    "version": 3
   },
   "file_extension": ".py",
   "mimetype": "text/x-python",
   "name": "python",
   "nbconvert_exporter": "python",
   "pygments_lexer": "ipython3",
   "version": "3.7.4"
  }
 },
 "nbformat": 4,
 "nbformat_minor": 4
}
